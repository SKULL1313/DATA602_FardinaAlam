{
 "cells": [
  {
   "cell_type": "code",
   "execution_count": 1,
   "id": "163bbfc1-9c99-45f0-bf02-aaafb72ad67f",
   "metadata": {},
   "outputs": [],
   "source": [
    "import torch"
   ]
  },
  {
   "cell_type": "code",
   "execution_count": 3,
   "id": "0a09a651-0f4a-4651-9bf3-97a78184c484",
   "metadata": {},
   "outputs": [
    {
     "name": "stdout",
     "output_type": "stream",
     "text": [
      "Name: Ryan Kemajou, UID: 119478035\n",
      "PyTorch Test\n",
      "Pytorch Version: 2.8.0+cu128\n",
      "GPU Available: False\n"
     ]
    }
   ],
   "source": [
    "print(\"Name: Ryan Kemajou, UID: 119478035\")\n",
    "print(\"PyTorch Test\")\n",
    "print(\"Pytorch Version:\", torch.__version__)\n",
    "print(\"GPU Available:\", torch.cuda.is_available())"
   ]
  },
  {
   "cell_type": "markdown",
   "id": "cb669649-2975-45c7-b261-248fc00467f1",
   "metadata": {},
   "source": [
    "**GitHub Repository URL:** [https://github.com/SKULL1313/DATA602_FardinaAlam](https://github.com/SKULL1313/DATA602_FardinaAlam)"
   ]
  },
  {
   "cell_type": "markdown",
   "id": "98455549-db63-4844-a867-160e1a91d225",
   "metadata": {},
   "source": [
    "**GitHub Pages URL:** [https://skull1313.github.io/DATA602_FardinaAlam/](https://skull1313.github.io/DATA602_FardinaAlam/)"
   ]
  },
  {
   "cell_type": "code",
   "execution_count": null,
   "id": "d7e474c9-eec5-498a-a49f-ae43420efa58",
   "metadata": {},
   "outputs": [],
   "source": []
  }
 ],
 "metadata": {
  "kernelspec": {
   "display_name": "Python (venv)",
   "language": "python",
   "name": "venv"
  },
  "language_info": {
   "codemirror_mode": {
    "name": "ipython",
    "version": 3
   },
   "file_extension": ".py",
   "mimetype": "text/x-python",
   "name": "python",
   "nbconvert_exporter": "python",
   "pygments_lexer": "ipython3",
   "version": "3.10.12"
  }
 },
 "nbformat": 4,
 "nbformat_minor": 5
}
