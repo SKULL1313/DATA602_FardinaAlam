{
 "cells": [
  {
   "cell_type": "code",
   "execution_count": 1,
   "id": "163bbfc1-9c99-45f0-bf02-aaafb72ad67f",
   "metadata": {},
   "outputs": [],
   "source": [
    "import torch"
   ]
  },
  {
   "cell_type": "code",
   "execution_count": 3,
   "id": "0a09a651-0f4a-4651-9bf3-97a78184c484",
   "metadata": {},
   "outputs": [
    {
     "name": "stdout",
     "output_type": "stream",
     "text": [
      "Name: Ryan Kemajou, UID: 119478035\n",
      "PyTorch Test\n",
      "Pytorch Version: 2.8.0+cu128\n",
      "GPU Available: False\n"
     ]
    }
   ],
   "source": [
    "print(\"Name: Ryan Kemajou, UID: 119478035\")\n",
    "print(\"PyTorch Test\")\n",
    "print(\"Pytorch Version:\", torch.__version__)\n",
    "print(\"GPU Available:\", torch.cuda.is_available())"
   ]
  },
  {
   "cell_type": "markdown",
   "id": "cb669649-2975-45c7-b261-248fc00467f1",
   "metadata": {},
   "source": [
    "**GitHub Repository URL:** [https://github.com/SKULL1313/DATA602_FardinaAlam](https://github.com/SKULL1313/DATA602_FardinaAlam)"
   ]
  },
  {
   "cell_type": "markdown",
   "id": "98455549-db63-4844-a867-160e1a91d225",
   "metadata": {},
   "source": [
    "**GitHub Pages URL:** [https://skull1313.github.io/DATA602_FardinaAlam/](https://skull1313.github.io/DATA602_FardinaAlam/)"
   ]
  },
  {
   "cell_type": "markdown",
   "id": "82f3bcf1-cf5f-4131-8aae-f8b4888ac4c4",
   "metadata": {},
   "source": [
    "### Screenshots\n",
    "\n",
    "**Python local output:**  \n",
    "![Python Test](screenshots/HW0_KEMAJOU_PYTHON3_SCREENSHOT.jpeg)\n",
    "\n",
    "**Google Colab output:**  \n",
    "![Colab Test](screenshots/HW0_KEMAJOU_COLAB_SCREENSHOT.jpeg)\n",
    "\n",
    "**Jupyter output:**  \n",
    "![Jupyter Test](screenshots/HW0_KEMAJOU_JUPYTER_SCREENSHOT.jpeg)\n",
    "\n",
    "**Docker output:**  \n",
    "![Docker Test](screenshots/HW0_KEMAJOU_DOCKER_SCREENSHOT.jpeg)\n",
    "\n"
   ]
  },
  {
   "cell_type": "code",
   "execution_count": null,
   "id": "6d95ef9b-b453-4154-bf35-36009e12bde0",
   "metadata": {},
   "outputs": [],
   "source": []
  }
 ],
 "metadata": {
  "kernelspec": {
   "display_name": "Python 3 (ipykernel)",
   "language": "python",
   "name": "python3"
  },
  "language_info": {
   "codemirror_mode": {
    "name": "ipython",
    "version": 3
   },
   "file_extension": ".py",
   "mimetype": "text/x-python",
   "name": "python",
   "nbconvert_exporter": "python",
   "pygments_lexer": "ipython3",
   "version": "3.9.7"
  }
 },
 "nbformat": 4,
 "nbformat_minor": 5
}
